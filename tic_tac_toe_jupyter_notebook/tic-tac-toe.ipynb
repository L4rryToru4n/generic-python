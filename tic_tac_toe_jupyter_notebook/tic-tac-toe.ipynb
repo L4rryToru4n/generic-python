{
 "cells": [
  {
   "cell_type": "code",
   "execution_count": null,
   "metadata": {},
   "outputs": [],
   "source": [
    "game_list = [0,1,2]"
   ]
  },
  {
   "cell_type": "code",
   "execution_count": null,
   "metadata": {},
   "outputs": [],
   "source": [
    "def display_game(game_list):\n",
    "    print(\"Here is the current list: \")\n",
    "    print(game_list)"
   ]
  },
  {
   "cell_type": "code",
   "execution_count": null,
   "metadata": {},
   "outputs": [],
   "source": [
    "display_game(game_list)"
   ]
  },
  {
   "cell_type": "code",
   "execution_count": null,
   "metadata": {},
   "outputs": [],
   "source": [
    "def replacement_choice(game_list,position):\n",
    "    \n",
    "    user_placement = input(\"Type a string to place at position: \")\n",
    "    \n",
    "    game_list[position] = user_placement\n",
    "    \n",
    "    return game_list"
   ]
  },
  {
   "cell_type": "code",
   "execution_count": null,
   "metadata": {},
   "outputs": [],
   "source": [
    "def gameon_choice():\n",
    "    \n",
    "    choice = 'wrong'\n",
    "    \n",
    "    while choice not in ['Y','N']:\n",
    "        choice = input(\"Keep playing ? (Y or N): \")\n",
    "        if choice not in ['Y','N']:\n",
    "            print(\"Sorry, I dont understand, please chose Y or N\")\n",
    "\n",
    "    if choice == \"Y\":\n",
    "        return True\n",
    "    else:\n",
    "        return False"
   ]
  },
  {
   "cell_type": "code",
   "execution_count": null,
   "metadata": {},
   "outputs": [],
   "source": [
    "game_on = True\n",
    "game_list = [0,1,2]\n",
    "\n",
    "while game_on:\n",
    "    \n",
    "    display_game(game_list)\n",
    "    \n",
    "    position = position_choice()\n",
    "    \n",
    "    replacement_choice(game_list,position)\n",
    "    \n",
    "    display_game(game_list)\n",
    "    \n",
    "    game_on = gameon_choice()"
   ]
  },
  {
   "cell_type": "code",
   "execution_count": 1,
   "metadata": {},
   "outputs": [],
   "source": [
    "from IPython.display import clear_output\n",
    "\n",
    "def display_board(board):\n",
    "    print(\"|\"+\" \"+board[0]+\" \"+\"|\"+\" \"+board[1]+\" \"+\"|\"+\" \"+board[2]+\" \"+\"|\")\n",
    "    print(\"|\"+\" \"+board[3]+\" \"+\"|\"+\" \"+board[4]+\" \"+\"|\"+\" \"+board[5]+\" \"+\"|\")\n",
    "    print(\"|\"+\" \"+board[6]+\" \"+\"|\"+\" \"+board[7]+\" \"+\"|\"+\" \"+board[8]+\" \"+\"|\")\n",
    "    \n",
    "def display_boardNum(board):\n",
    "    print(\"|\"+\" \"+board[0]+\" \"+\"|\"+\" \"+board[1]+\" \"+\"|\"+\" \"+board[2]+\" \"+\"|\")\n",
    "    print(\"|\"+\" \"+board[3]+\" \"+\"|\"+\" \"+board[4]+\" \"+\"|\"+\" \"+board[5]+\" \"+\"|\")\n",
    "    print(\"|\"+\" \"+board[6]+\" \"+\"|\"+\" \"+board[7]+\" \"+\"|\"+\" \"+board[8]+\" \"+\"|\")"
   ]
  },
  {
   "cell_type": "code",
   "execution_count": 2,
   "metadata": {},
   "outputs": [],
   "source": [
    "def player_input():\n",
    "    \n",
    "    marker = ''\n",
    "    \n",
    "    # KEEP asking Player 1 for an input\n",
    "    while (marker != 'X' and marker != 'O') or marker == '':\n",
    "        marker = input(\"Player 1, choose a marker [O or X] : \")\n",
    "        marker = marker.upper()\n",
    "    \n",
    "    # ASSIGN Player 2 another marker\n",
    "    if marker == 'X':\n",
    "        marker2 = 'O'\n",
    "    else:\n",
    "        marker2 = 'X'  \n",
    "        \n",
    "    return (marker,marker2)"
   ]
  },
  {
   "cell_type": "code",
   "execution_count": 3,
   "metadata": {},
   "outputs": [],
   "source": [
    "def position_choice():\n",
    "    \n",
    "    choice = 'wrong'\n",
    "    \n",
    "    while choice not in ['1','2','3','4','5','6','7','8','9']:\n",
    "        choice = input(\"pick a position (1,2,3,4,5,6,7,8,9): \")\n",
    "        if choice not in ['1','2','3','4','5','6','7','8','9']:\n",
    "            print(\"Sorry invalid choice !\")\n",
    "            \n",
    "    return int(choice)"
   ]
  },
  {
   "cell_type": "code",
   "execution_count": 4,
   "metadata": {},
   "outputs": [],
   "source": [
    "def gameon_choice():\n",
    "    \n",
    "    choice = 'wrong'\n",
    "    \n",
    "    while choice not in ['Y','N']:\n",
    "        choice = input(\"Keep playing ? (Y or N): \")\n",
    "        if choice not in ['Y','N']:\n",
    "            print(\"Sorry, I dont understand, please chose Y or N\")\n",
    "\n",
    "    if choice == \"Y\":\n",
    "        return True\n",
    "    else:\n",
    "        return False"
   ]
  },
  {
   "cell_type": "code",
   "execution_count": 5,
   "metadata": {},
   "outputs": [],
   "source": [
    "def place_marker(board,marker,position):\n",
    "    board[position-1] = marker\n",
    "    return board"
   ]
  },
  {
   "cell_type": "code",
   "execution_count": 6,
   "metadata": {},
   "outputs": [],
   "source": [
    "def win_check(board, mark):\n",
    "    \n",
    "    win = False\n",
    "    # First pattern (O O O) or (X X X)\n",
    "    # Horizontally match, 3 posibility\n",
    "    \n",
    "    # Second pattern \n",
    "    # Vertically match, 3 posibility\n",
    "    # (O)    (X)\n",
    "    # (O) or (X)\n",
    "    # (O)    (X)\n",
    "    \n",
    "    # Third pattern \n",
    "    # Diagonally match, 2 posibility\n",
    "    # (O)           (X)\n",
    "    #     (O)     or    (X)\n",
    "    #        (O)            (X)\n",
    "    \n",
    "    for check in range(len(board)):\n",
    "        if board[check] == mark:\n",
    "            if check == 0:\n",
    "                if board[check] == board[check+1] and board[check+2] == board[check]:\n",
    "                    win = True\n",
    "                elif board[check] == board[check+3] and board[check+6] == board[check]:\n",
    "                    win = True\n",
    "            elif check == 1:\n",
    "                if board[check] == board[check+3] and board[check+6] == board[check]:\n",
    "                    win = True\n",
    "            elif check == 2:\n",
    "                if board[check] == board[check+3] and board[check+6] == board[check]:\n",
    "                    win = True\n",
    "                elif board[check] == board[check+2] and board[check+4] == board[check]:\n",
    "                    win = True\n",
    "            elif check == 3:\n",
    "                if board[check] == board[check+1] and board[check+2] == board[check]:\n",
    "                    win = True\n",
    "            elif check == 6:\n",
    "                if board[check] == board[check+1] and board[check+2] == board[check]:\n",
    "                    win = True\n",
    "    return win"
   ]
  },
  {
   "cell_type": "code",
   "execution_count": 8,
   "metadata": {},
   "outputs": [],
   "source": [
    "def main_menu():\n",
    "    menu = False\n",
    "    gameon = True\n",
    "    board_list= [' ',' ',' ',' ',' ',' ',' ',' ',' ']\n",
    "    board_num= ['1','2','3','4','5','6','7','8','9']\n",
    "    while menu == False:\n",
    "        clear_output()\n",
    "        print(\"Welcome to the Tic Tac Toe game !\")\n",
    "        print(\"-\"*13)\n",
    "        print(\"Numbers that can be selected on board : \")\n",
    "        display_boardNum(board_num)\n",
    "        print(\"-\"*13)\n",
    "        print(\"Current game board\")\n",
    "        display_board(board_list)\n",
    "        player1_marker,player2_marker = player_input()\n",
    "        \n",
    "        if player1_marker and player2_marker != \" \":\n",
    "            \n",
    "            clear_output()\n",
    "            while gameon == True:\n",
    "                \n",
    "                print(\"Player 1, choose your position\")\n",
    "                position = position_choice()\n",
    "                \n",
    "                board_list = place_marker(board_list,player1_marker,position)\n",
    "                display_board(board_list)\n",
    "                \n",
    "                print(\"Player 2, choose your position\")\n",
    "                position = position_choice()\n",
    "                \n",
    "                board_list = place_marker(board_list,player2_marker,position)\n",
    "                display_board(board_list)\n",
    "                \n",
    "                if win_check(board_list, player2_marker) == True:\n",
    "                    print(\"Player 2 has won the game !\")\n",
    "                    break\n",
    "                elif win_check(board_list, player1_marker) == True:\n",
    "                    print(\"Player 1 has won the game !\")\n",
    "                    break\n",
    "                else:\n",
    "                    gameon = gameon_choice()\n",
    "        \n",
    "        menu_input = input(\"Do you wan to exit ? [Y, N]\")\n",
    "        if menu_input == 'Y':\n",
    "            menu = True\n",
    "        else:\n",
    "            board_list= [' ',' ',' ',' ',' ',' ',' ',' ',' ']\n",
    "            menu = False"
   ]
  },
  {
   "cell_type": "code",
   "execution_count": null,
   "metadata": {
    "scrolled": true
   },
   "outputs": [
    {
     "name": "stdout",
     "output_type": "stream",
     "text": [
      "Player 1, choose your position\n",
      "pick a position (1,2,3,4,5,6,7,8,9): 1\n",
      "| O |   |   |\n",
      "|   |   |   |\n",
      "|   |   |   |\n",
      "Player 2, choose your position\n",
      "pick a position (1,2,3,4,5,6,7,8,9): 4\n",
      "| O |   |   |\n",
      "| X |   |   |\n",
      "|   |   |   |\n",
      "Keep playing ? (Y or N): Y\n",
      "Player 1, choose your position\n",
      "pick a position (1,2,3,4,5,6,7,8,9): 2\n",
      "| O | O |   |\n",
      "| X |   |   |\n",
      "|   |   |   |\n",
      "Player 2, choose your position\n",
      "pick a position (1,2,3,4,5,6,7,8,9): 4\n",
      "| O | O |   |\n",
      "| X |   |   |\n",
      "|   |   |   |\n",
      "Keep playing ? (Y or N): Y\n",
      "Player 1, choose your position\n",
      "pick a position (1,2,3,4,5,6,7,8,9): 7\n",
      "| O | O |   |\n",
      "| X |   |   |\n",
      "| O |   |   |\n",
      "Player 2, choose your position\n",
      "pick a position (1,2,3,4,5,6,7,8,9): 5\n",
      "| O | O |   |\n",
      "| X | X |   |\n",
      "| O |   |   |\n",
      "Keep playing ? (Y or N): Y\n",
      "Player 1, choose your position\n",
      "pick a position (1,2,3,4,5,6,7,8,9): 8\n",
      "| O | O |   |\n",
      "| X | X |   |\n",
      "| O | O |   |\n",
      "Player 2, choose your position\n"
     ]
    }
   ],
   "source": [
    "main_menu()"
   ]
  },
  {
   "cell_type": "code",
   "execution_count": null,
   "metadata": {},
   "outputs": [],
   "source": []
  }
 ],
 "metadata": {
  "kernelspec": {
   "display_name": "Python 3",
   "language": "python",
   "name": "python3"
  },
  "language_info": {
   "codemirror_mode": {
    "name": "ipython",
    "version": 3
   },
   "file_extension": ".py",
   "mimetype": "text/x-python",
   "name": "python",
   "nbconvert_exporter": "python",
   "pygments_lexer": "ipython3",
   "version": "3.7.4"
  }
 },
 "nbformat": 4,
 "nbformat_minor": 2
}
